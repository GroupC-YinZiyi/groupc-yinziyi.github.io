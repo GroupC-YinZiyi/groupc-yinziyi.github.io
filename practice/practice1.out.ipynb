{
  "cells": [
    {
      "cell_type": "markdown",
      "metadata": {},
      "source": [
        "#"
      ],
      "id": "46ce4e37-1bb8-43ac-bbd5-e6909e7d22f6"
    },
    {
      "cell_type": "code",
      "execution_count": 1,
      "metadata": {},
      "outputs": [],
      "source": [
        "import pandas as pd\n",
        "import matplotlib as mpl\n",
        "import matplotlib.pyplot as plt\n",
        "import numpy as np\n",
        "from pathlib import Path\n",
        "import pingouin as pg\n",
        "from lets_plot import *\n",
        "\n",
        "LetsPlot.setup_html(no_js=True)\n",
        "\n",
        "### You don't need to use these settings yourself,\n",
        "### they are just here to make the charts look nicer!\n",
        "# Set the plot style for prettier charts:\n",
        "plt.style.use(\n",
        "    \"https://raw.githubusercontent.com/aeturrell/core_python/main/plot_style.txt\"\n",
        ")"
      ],
      "id": "cell-0"
    }
  ],
  "nbformat": 4,
  "nbformat_minor": 5,
  "metadata": {
    "kernelspec": {
      "name": "python3",
      "display_name": "base",
      "language": "python"
    },
    "language_info": {
      "name": "python",
      "codemirror_mode": {
        "name": "ipython",
        "version": "3"
      },
      "file_extension": ".py",
      "mimetype": "text/x-python",
      "nbconvert_exporter": "python",
      "pygments_lexer": "ipython3",
      "version": "3.12.7"
    }
  }
}